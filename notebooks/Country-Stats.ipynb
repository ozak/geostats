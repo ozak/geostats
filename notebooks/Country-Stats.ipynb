{
 "cells": [
  {
   "cell_type": "markdown",
   "id": "b8b69a51-3eba-4baf-a2f3-8d1921fc5c17",
   "metadata": {},
   "source": [
    "# Example: Computing statistics for all countries"
   ]
  },
  {
   "cell_type": "markdown",
   "id": "7bfd2553-0135-4c4d-8936-c4b8b74fc334",
   "metadata": {},
   "source": [
    "# Import packages"
   ]
  },
  {
   "cell_type": "code",
   "execution_count": 1,
   "id": "69edc671-bff6-4728-8847-b5de578b6015",
   "metadata": {},
   "outputs": [
    {
     "name": "stdout",
     "output_type": "stream",
     "text": [
      "✅ Data already present with subdirectories, skipping download.\n"
     ]
    }
   ],
   "source": [
    "import os\n",
    "import geopandas as gp\n",
    "import geostats\n",
    "import matplotlib as mpl\n",
    "import seaborn as sns\n",
    "import geoplot as gplt\n",
    "# Setup seaborn\n",
    "sns.set()"
   ]
  },
  {
   "cell_type": "markdown",
   "id": "b8740002-b27b-48f0-8146-b5b62e7ea575",
   "metadata": {},
   "source": [
    "# Setup paths"
   ]
  },
  {
   "cell_type": "code",
   "execution_count": 2,
   "id": "c710d9a0-ba3b-4abe-975d-4128874f7de0",
   "metadata": {},
   "outputs": [],
   "source": [
    "# Paths\n",
    "pathout = '../data/'\n",
    "\n",
    "if not os.path.exists(pathout):\n",
    "    os.mkdir(pathout)\n",
    "    \n",
    "pathgraphs = '../graphs/'\n",
    "if not os.path.exists(pathgraphs):\n",
    "    os.mkdir(pathgraphs)"
   ]
  },
  {
   "cell_type": "markdown",
   "id": "3fec105c-57c9-4509-a9a7-7cbdab5ec0f9",
   "metadata": {},
   "source": [
    "# Import countries shapefile"
   ]
  },
  {
   "cell_type": "code",
   "execution_count": 3,
   "id": "edd0c6c6-0c5a-4710-b60d-beab8cf902ff",
   "metadata": {},
   "outputs": [],
   "source": [
    "import requests\n",
    "import io\n",
    "\n",
    "headers = {'User-Agent': 'Mozilla/5.0 (X11; Linux x86_64) AppleWebKit/537.36 (KHTML, like Gecko) Chrome/51.0.2704.103 Safari/537.36', 'Accept': 'text/html,application/xhtml+xml,application/xml;q=0.9,*/*;q=0.8'}\n",
    "\n",
    "url = 'https://naturalearth.s3.amazonaws.com/10m_cultural/ne_10m_admin_0_countries.zip'\n",
    "r = requests.get(url, headers=headers)\n",
    "countries = gp.read_file(io.BytesIO(r.content))"
   ]
  },
  {
   "cell_type": "markdown",
   "id": "e03ac1b5-242e-49e0-b0bd-0b508090c968",
   "metadata": {},
   "source": [
    "# Remove Antactica"
   ]
  },
  {
   "cell_type": "code",
   "execution_count": 4,
   "id": "4cf85041-8fa1-4503-b778-6b53f1d277bb",
   "metadata": {},
   "outputs": [],
   "source": [
    "countries = countries.query(\"CONTINENT!='Antarctica'\").copy()"
   ]
  },
  {
   "cell_type": "code",
   "execution_count": 5,
   "id": "321a4c02-8a69-4bd0-a911-55b987b008cd",
   "metadata": {},
   "outputs": [],
   "source": [
    "countries = countries.reset_index(drop=True)"
   ]
  },
  {
   "cell_type": "markdown",
   "id": "8a9cfa65-73da-4f29-9247-c955abc893d2",
   "metadata": {},
   "source": [
    "# Compute all statistics for all available data sources"
   ]
  },
  {
   "cell_type": "markdown",
   "id": "81929496-b041-4de6-8269-1d3fc177ebfe",
   "metadata": {},
   "source": [
    "## Setup geostats object"
   ]
  },
  {
   "cell_type": "code",
   "execution_count": 6,
   "id": "b6179c89-ee7f-4d98-89ff-f7da8f76d92b",
   "metadata": {},
   "outputs": [
    {
     "name": "stdout",
     "output_type": "stream",
     "text": [
      "CPU times: user 372 ms, sys: 45.3 ms, total: 417 ms\n",
      "Wall time: 428 ms\n"
     ]
    }
   ],
   "source": [
    "%%time\n",
    "country_stats = geostats.geostats(countries)"
   ]
  },
  {
   "cell_type": "markdown",
   "id": "4b7a71db-c68a-4a8d-966a-21608ea10348",
   "metadata": {},
   "source": [
    "## Compute"
   ]
  },
  {
   "cell_type": "code",
   "execution_count": null,
   "id": "bb9bfb28-b9c6-4399-a394-b8f2f686c568",
   "metadata": {},
   "outputs": [
    {
     "name": "stdout",
     "output_type": "stream",
     "text": [
      "Computing Stats for: CRU\n",
      "cldmeancyl\n",
      "cldspatcorrcyl\n",
      "cldspatcorrmincyl\n",
      "cldvolatilitycyl\n",
      "dtrmeancyl\n",
      "dtrspatcorrcyl\n",
      "dtrspatcorrmincyl\n",
      "dtrvolatilitycyl\n",
      "frsmeancyl\n",
      "frsspatcorrcyl\n",
      "frsspatcorrmincyl\n",
      "frsvolatilitycyl\n",
      "petmeancyl\n"
     ]
    }
   ],
   "source": [
    "%%time\n",
    "country_stats.geostats()"
   ]
  },
  {
   "cell_type": "code",
   "execution_count": null,
   "id": "0945dfdb-ab5b-462d-bca5-195fa15a6166",
   "metadata": {},
   "outputs": [],
   "source": [
    "country_stats.df"
   ]
  },
  {
   "cell_type": "code",
   "execution_count": null,
   "id": "37a72c81-c151-4890-91a6-280fa65d32a7",
   "metadata": {},
   "outputs": [],
   "source": []
  }
 ],
 "metadata": {
  "kernelspec": {
   "display_name": "Python 3 (ipykernel)",
   "language": "python",
   "name": "python3"
  },
  "language_info": {
   "codemirror_mode": {
    "name": "ipython",
    "version": 3
   },
   "file_extension": ".py",
   "mimetype": "text/x-python",
   "name": "python",
   "nbconvert_exporter": "python",
   "pygments_lexer": "ipython3",
   "version": "3.11.11"
  },
  "widgets": {
   "application/vnd.jupyter.widget-state+json": {
    "state": {},
    "version_major": 2,
    "version_minor": 0
   }
  }
 },
 "nbformat": 4,
 "nbformat_minor": 5
}
